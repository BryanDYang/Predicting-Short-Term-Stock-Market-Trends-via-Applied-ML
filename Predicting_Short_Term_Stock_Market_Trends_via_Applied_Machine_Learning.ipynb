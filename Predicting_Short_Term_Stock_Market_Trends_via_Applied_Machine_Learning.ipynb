{
  "nbformat": 4,
  "nbformat_minor": 0,
  "metadata": {
    "colab": {
      "provenance": []
    },
    "kernelspec": {
      "name": "python3",
      "display_name": "Python 3"
    },
    "language_info": {
      "name": "python"
    }
  },
  "cells": [
    {
      "cell_type": "code",
      "execution_count": null,
      "metadata": {
        "id": "TuLGBCNrK-UB"
      },
      "outputs": [],
      "source": [
        "# Description: This program uses an artificial recurrence neural network called Long Short Term Memory (LSTM)\n",
        "#              to predict the closing stock price of various companies using the past 60 day stock price."
      ]
    },
    {
      "cell_type": "code",
      "source": [
        "# Import the libraries\n",
        "import tensorflow as tf\n",
        "import math\n",
        "import pandas as pd\n",
        "import pandas_datareader as pdr\n",
        "import numpy as np\n",
        "from sklearn.preprocessing import MinMaxScaler\n",
        "from keras.models import Sequential\n",
        "from keras.layers import Dense, LSTM\n",
        "import matplotlib.pyplot as plt\n",
        "plt.style.use('fivethirtyeight')"
      ],
      "metadata": {
        "id": "LznIWKP3NA_c"
      },
      "execution_count": null,
      "outputs": []
    },
    {
      "cell_type": "code",
      "source": [
        "# Get the panda 0.10.0 version to access the Yahoo finance data\n",
        "!pip install --upgrade pandas\n",
        "!pip install --upgrade pandas-datareader\n",
        "\n",
        "# Re-start runtime\n",
        "exit()"
      ],
      "metadata": {
        "colab": {
          "base_uri": "https://localhost:8080/"
        },
        "id": "yFf6_8x4WI1B",
        "outputId": "f2a4edc5-33ae-4838-fe1a-9ca679e4a589"
      },
      "execution_count": null,
      "outputs": [
        {
          "output_type": "stream",
          "name": "stdout",
          "text": [
            "Looking in indexes: https://pypi.org/simple, https://us-python.pkg.dev/colab-wheels/public/simple/\n",
            "Requirement already satisfied: pandas in /usr/local/lib/python3.8/dist-packages (1.5.2)\n",
            "Requirement already satisfied: pytz>=2020.1 in /usr/local/lib/python3.8/dist-packages (from pandas) (2022.6)\n",
            "Requirement already satisfied: numpy>=1.20.3 in /usr/local/lib/python3.8/dist-packages (from pandas) (1.21.6)\n",
            "Requirement already satisfied: python-dateutil>=2.8.1 in /usr/local/lib/python3.8/dist-packages (from pandas) (2.8.2)\n",
            "Requirement already satisfied: six>=1.5 in /usr/local/lib/python3.8/dist-packages (from python-dateutil>=2.8.1->pandas) (1.15.0)\n",
            "Looking in indexes: https://pypi.org/simple, https://us-python.pkg.dev/colab-wheels/public/simple/\n",
            "Requirement already satisfied: pandas-datareader in /usr/local/lib/python3.8/dist-packages (0.10.0)\n",
            "Requirement already satisfied: lxml in /usr/local/lib/python3.8/dist-packages (from pandas-datareader) (4.9.1)\n",
            "Requirement already satisfied: pandas>=0.23 in /usr/local/lib/python3.8/dist-packages (from pandas-datareader) (1.5.2)\n",
            "Requirement already satisfied: requests>=2.19.0 in /usr/local/lib/python3.8/dist-packages (from pandas-datareader) (2.23.0)\n",
            "Requirement already satisfied: python-dateutil>=2.8.1 in /usr/local/lib/python3.8/dist-packages (from pandas>=0.23->pandas-datareader) (2.8.2)\n",
            "Requirement already satisfied: numpy>=1.20.3 in /usr/local/lib/python3.8/dist-packages (from pandas>=0.23->pandas-datareader) (1.21.6)\n",
            "Requirement already satisfied: pytz>=2020.1 in /usr/local/lib/python3.8/dist-packages (from pandas>=0.23->pandas-datareader) (2022.6)\n",
            "Requirement already satisfied: six>=1.5 in /usr/local/lib/python3.8/dist-packages (from python-dateutil>=2.8.1->pandas>=0.23->pandas-datareader) (1.15.0)\n",
            "Requirement already satisfied: certifi>=2017.4.17 in /usr/local/lib/python3.8/dist-packages (from requests>=2.19.0->pandas-datareader) (2022.9.24)\n",
            "Requirement already satisfied: chardet<4,>=3.0.2 in /usr/local/lib/python3.8/dist-packages (from requests>=2.19.0->pandas-datareader) (3.0.4)\n",
            "Requirement already satisfied: urllib3!=1.25.0,!=1.25.1,<1.26,>=1.21.1 in /usr/local/lib/python3.8/dist-packages (from requests>=2.19.0->pandas-datareader) (1.24.3)\n",
            "Requirement already satisfied: idna<3,>=2.5 in /usr/local/lib/python3.8/dist-packages (from requests>=2.19.0->pandas-datareader) (2.10)\n"
          ]
        }
      ]
    },
    {
      "cell_type": "code",
      "source": [
        "# Confirm panda datareader version\n",
        "pdr.__version__ "
      ],
      "metadata": {
        "colab": {
          "base_uri": "https://localhost:8080/",
          "height": 35
        },
        "id": "53Q_2f_CWiTA",
        "outputId": "a6a68fa2-9518-4db9-f2c4-cac51bfe683f"
      },
      "execution_count": null,
      "outputs": [
        {
          "output_type": "execute_result",
          "data": {
            "text/plain": [
              "'0.10.0'"
            ],
            "application/vnd.google.colaboratory.intrinsic+json": {
              "type": "string"
            }
          },
          "metadata": {},
          "execution_count": 4
        }
      ]
    },
    {
      "cell_type": "code",
      "source": [
        "start = '2012-12-14'\n",
        "end = '2022-12-14'\n",
        "source = 'yahoo'\n",
        "\n",
        "# Get the stock quote\n",
        "df = pdr.DataReader('AAPL', data_source=source, start=start, end=end)\n",
        "\n",
        "# Show the Data\n",
        "df"
      ],
      "metadata": {
        "id": "2sK-iCo8NtSE",
        "colab": {
          "base_uri": "https://localhost:8080/",
          "height": 455
        },
        "outputId": "fcf8aa3d-cdc5-47a4-a3a9-eca4fb4c2f4b"
      },
      "execution_count": null,
      "outputs": [
        {
          "output_type": "execute_result",
          "data": {
            "text/plain": [
              "                  High         Low        Open       Close        Volume  \\\n",
              "Date                                                                       \n",
              "2012-12-14   18.504642   18.056429   18.383928   18.206785  1.009579e+09   \n",
              "2012-12-17   18.571428   17.901072   18.176071   18.529642  7.576072e+08   \n",
              "2012-12-18   19.103571   18.580357   18.750000   19.067858  6.256852e+08   \n",
              "2012-12-19   19.060715   18.767857   18.981071   18.796785  4.493692e+08   \n",
              "2012-12-20   18.935715   18.531429   18.928572   18.633215  4.816896e+08   \n",
              "...                ...         ...         ...         ...           ...   \n",
              "2022-12-08  143.520004  141.100006  142.360001  142.649994  6.212830e+07   \n",
              "2022-12-09  145.570007  140.899994  142.339996  142.160004  7.606950e+07   \n",
              "2022-12-12  144.500000  141.059998  142.699997  144.490005  7.046270e+07   \n",
              "2022-12-13  149.970001  144.240005  149.500000  145.470001  9.388620e+07   \n",
              "2022-12-14  146.660004  141.160004  145.350006  143.210007  8.229120e+07   \n",
              "\n",
              "             Adj Close  \n",
              "Date                    \n",
              "2012-12-14   15.657614  \n",
              "2012-12-17   15.935264  \n",
              "2012-12-18   16.398125  \n",
              "2012-12-19   16.165001  \n",
              "2012-12-20   16.024338  \n",
              "...                ...  \n",
              "2022-12-08  142.649994  \n",
              "2022-12-09  142.160004  \n",
              "2022-12-12  144.490005  \n",
              "2022-12-13  145.470001  \n",
              "2022-12-14  143.210007  \n",
              "\n",
              "[2518 rows x 6 columns]"
            ],
            "text/html": [
              "\n",
              "  <div id=\"df-35e775f1-4485-41f4-90c6-e4f44935f8dd\">\n",
              "    <div class=\"colab-df-container\">\n",
              "      <div>\n",
              "<style scoped>\n",
              "    .dataframe tbody tr th:only-of-type {\n",
              "        vertical-align: middle;\n",
              "    }\n",
              "\n",
              "    .dataframe tbody tr th {\n",
              "        vertical-align: top;\n",
              "    }\n",
              "\n",
              "    .dataframe thead th {\n",
              "        text-align: right;\n",
              "    }\n",
              "</style>\n",
              "<table border=\"1\" class=\"dataframe\">\n",
              "  <thead>\n",
              "    <tr style=\"text-align: right;\">\n",
              "      <th></th>\n",
              "      <th>High</th>\n",
              "      <th>Low</th>\n",
              "      <th>Open</th>\n",
              "      <th>Close</th>\n",
              "      <th>Volume</th>\n",
              "      <th>Adj Close</th>\n",
              "    </tr>\n",
              "    <tr>\n",
              "      <th>Date</th>\n",
              "      <th></th>\n",
              "      <th></th>\n",
              "      <th></th>\n",
              "      <th></th>\n",
              "      <th></th>\n",
              "      <th></th>\n",
              "    </tr>\n",
              "  </thead>\n",
              "  <tbody>\n",
              "    <tr>\n",
              "      <th>2012-12-14</th>\n",
              "      <td>18.504642</td>\n",
              "      <td>18.056429</td>\n",
              "      <td>18.383928</td>\n",
              "      <td>18.206785</td>\n",
              "      <td>1.009579e+09</td>\n",
              "      <td>15.657614</td>\n",
              "    </tr>\n",
              "    <tr>\n",
              "      <th>2012-12-17</th>\n",
              "      <td>18.571428</td>\n",
              "      <td>17.901072</td>\n",
              "      <td>18.176071</td>\n",
              "      <td>18.529642</td>\n",
              "      <td>7.576072e+08</td>\n",
              "      <td>15.935264</td>\n",
              "    </tr>\n",
              "    <tr>\n",
              "      <th>2012-12-18</th>\n",
              "      <td>19.103571</td>\n",
              "      <td>18.580357</td>\n",
              "      <td>18.750000</td>\n",
              "      <td>19.067858</td>\n",
              "      <td>6.256852e+08</td>\n",
              "      <td>16.398125</td>\n",
              "    </tr>\n",
              "    <tr>\n",
              "      <th>2012-12-19</th>\n",
              "      <td>19.060715</td>\n",
              "      <td>18.767857</td>\n",
              "      <td>18.981071</td>\n",
              "      <td>18.796785</td>\n",
              "      <td>4.493692e+08</td>\n",
              "      <td>16.165001</td>\n",
              "    </tr>\n",
              "    <tr>\n",
              "      <th>2012-12-20</th>\n",
              "      <td>18.935715</td>\n",
              "      <td>18.531429</td>\n",
              "      <td>18.928572</td>\n",
              "      <td>18.633215</td>\n",
              "      <td>4.816896e+08</td>\n",
              "      <td>16.024338</td>\n",
              "    </tr>\n",
              "    <tr>\n",
              "      <th>...</th>\n",
              "      <td>...</td>\n",
              "      <td>...</td>\n",
              "      <td>...</td>\n",
              "      <td>...</td>\n",
              "      <td>...</td>\n",
              "      <td>...</td>\n",
              "    </tr>\n",
              "    <tr>\n",
              "      <th>2022-12-08</th>\n",
              "      <td>143.520004</td>\n",
              "      <td>141.100006</td>\n",
              "      <td>142.360001</td>\n",
              "      <td>142.649994</td>\n",
              "      <td>6.212830e+07</td>\n",
              "      <td>142.649994</td>\n",
              "    </tr>\n",
              "    <tr>\n",
              "      <th>2022-12-09</th>\n",
              "      <td>145.570007</td>\n",
              "      <td>140.899994</td>\n",
              "      <td>142.339996</td>\n",
              "      <td>142.160004</td>\n",
              "      <td>7.606950e+07</td>\n",
              "      <td>142.160004</td>\n",
              "    </tr>\n",
              "    <tr>\n",
              "      <th>2022-12-12</th>\n",
              "      <td>144.500000</td>\n",
              "      <td>141.059998</td>\n",
              "      <td>142.699997</td>\n",
              "      <td>144.490005</td>\n",
              "      <td>7.046270e+07</td>\n",
              "      <td>144.490005</td>\n",
              "    </tr>\n",
              "    <tr>\n",
              "      <th>2022-12-13</th>\n",
              "      <td>149.970001</td>\n",
              "      <td>144.240005</td>\n",
              "      <td>149.500000</td>\n",
              "      <td>145.470001</td>\n",
              "      <td>9.388620e+07</td>\n",
              "      <td>145.470001</td>\n",
              "    </tr>\n",
              "    <tr>\n",
              "      <th>2022-12-14</th>\n",
              "      <td>146.660004</td>\n",
              "      <td>141.160004</td>\n",
              "      <td>145.350006</td>\n",
              "      <td>143.210007</td>\n",
              "      <td>8.229120e+07</td>\n",
              "      <td>143.210007</td>\n",
              "    </tr>\n",
              "  </tbody>\n",
              "</table>\n",
              "<p>2518 rows × 6 columns</p>\n",
              "</div>\n",
              "      <button class=\"colab-df-convert\" onclick=\"convertToInteractive('df-35e775f1-4485-41f4-90c6-e4f44935f8dd')\"\n",
              "              title=\"Convert this dataframe to an interactive table.\"\n",
              "              style=\"display:none;\">\n",
              "        \n",
              "  <svg xmlns=\"http://www.w3.org/2000/svg\" height=\"24px\"viewBox=\"0 0 24 24\"\n",
              "       width=\"24px\">\n",
              "    <path d=\"M0 0h24v24H0V0z\" fill=\"none\"/>\n",
              "    <path d=\"M18.56 5.44l.94 2.06.94-2.06 2.06-.94-2.06-.94-.94-2.06-.94 2.06-2.06.94zm-11 1L8.5 8.5l.94-2.06 2.06-.94-2.06-.94L8.5 2.5l-.94 2.06-2.06.94zm10 10l.94 2.06.94-2.06 2.06-.94-2.06-.94-.94-2.06-.94 2.06-2.06.94z\"/><path d=\"M17.41 7.96l-1.37-1.37c-.4-.4-.92-.59-1.43-.59-.52 0-1.04.2-1.43.59L10.3 9.45l-7.72 7.72c-.78.78-.78 2.05 0 2.83L4 21.41c.39.39.9.59 1.41.59.51 0 1.02-.2 1.41-.59l7.78-7.78 2.81-2.81c.8-.78.8-2.07 0-2.86zM5.41 20L4 18.59l7.72-7.72 1.47 1.35L5.41 20z\"/>\n",
              "  </svg>\n",
              "      </button>\n",
              "      \n",
              "  <style>\n",
              "    .colab-df-container {\n",
              "      display:flex;\n",
              "      flex-wrap:wrap;\n",
              "      gap: 12px;\n",
              "    }\n",
              "\n",
              "    .colab-df-convert {\n",
              "      background-color: #E8F0FE;\n",
              "      border: none;\n",
              "      border-radius: 50%;\n",
              "      cursor: pointer;\n",
              "      display: none;\n",
              "      fill: #1967D2;\n",
              "      height: 32px;\n",
              "      padding: 0 0 0 0;\n",
              "      width: 32px;\n",
              "    }\n",
              "\n",
              "    .colab-df-convert:hover {\n",
              "      background-color: #E2EBFA;\n",
              "      box-shadow: 0px 1px 2px rgba(60, 64, 67, 0.3), 0px 1px 3px 1px rgba(60, 64, 67, 0.15);\n",
              "      fill: #174EA6;\n",
              "    }\n",
              "\n",
              "    [theme=dark] .colab-df-convert {\n",
              "      background-color: #3B4455;\n",
              "      fill: #D2E3FC;\n",
              "    }\n",
              "\n",
              "    [theme=dark] .colab-df-convert:hover {\n",
              "      background-color: #434B5C;\n",
              "      box-shadow: 0px 1px 3px 1px rgba(0, 0, 0, 0.15);\n",
              "      filter: drop-shadow(0px 1px 2px rgba(0, 0, 0, 0.3));\n",
              "      fill: #FFFFFF;\n",
              "    }\n",
              "  </style>\n",
              "\n",
              "      <script>\n",
              "        const buttonEl =\n",
              "          document.querySelector('#df-35e775f1-4485-41f4-90c6-e4f44935f8dd button.colab-df-convert');\n",
              "        buttonEl.style.display =\n",
              "          google.colab.kernel.accessAllowed ? 'block' : 'none';\n",
              "\n",
              "        async function convertToInteractive(key) {\n",
              "          const element = document.querySelector('#df-35e775f1-4485-41f4-90c6-e4f44935f8dd');\n",
              "          const dataTable =\n",
              "            await google.colab.kernel.invokeFunction('convertToInteractive',\n",
              "                                                     [key], {});\n",
              "          if (!dataTable) return;\n",
              "\n",
              "          const docLinkHtml = 'Like what you see? Visit the ' +\n",
              "            '<a target=\"_blank\" href=https://colab.research.google.com/notebooks/data_table.ipynb>data table notebook</a>'\n",
              "            + ' to learn more about interactive tables.';\n",
              "          element.innerHTML = '';\n",
              "          dataTable['output_type'] = 'display_data';\n",
              "          await google.colab.output.renderOutput(dataTable, element);\n",
              "          const docLink = document.createElement('div');\n",
              "          docLink.innerHTML = docLinkHtml;\n",
              "          element.appendChild(docLink);\n",
              "        }\n",
              "      </script>\n",
              "    </div>\n",
              "  </div>\n",
              "  "
            ]
          },
          "metadata": {},
          "execution_count": 5
        }
      ]
    },
    {
      "cell_type": "code",
      "source": [
        "# Get the number of rows and columns in the data set\n",
        "df.shape"
      ],
      "metadata": {
        "id": "T99fGrIOL3YH",
        "colab": {
          "base_uri": "https://localhost:8080/"
        },
        "outputId": "3b5e9c83-6ab8-47aa-aeb3-918f8376c7b8"
      },
      "execution_count": null,
      "outputs": [
        {
          "output_type": "execute_result",
          "data": {
            "text/plain": [
              "(2518, 6)"
            ]
          },
          "metadata": {},
          "execution_count": 6
        }
      ]
    },
    {
      "cell_type": "code",
      "source": [
        "# Visualize the history of the closing price\n",
        "plt.figure(figsize=(16,8))\n",
        "plt.title('Close Price History')\n",
        "plt.plot(df['Close'])\n",
        "plt.xlabel('Date', fontsize=18)\n",
        "plt.ylabel('Close Price USD ($)', fontsize=18)\n",
        "plt.show()"
      ],
      "metadata": {
        "colab": {
          "base_uri": "https://localhost:8080/",
          "height": 558
        },
        "id": "NW4bKM_YNdNh",
        "outputId": "4b1d56b8-9cd4-4a06-a742-32b938b71b5f"
      },
      "execution_count": null,
      "outputs": [
        {
          "output_type": "display_data",
          "data": {
            "text/plain": [
              "<Figure size 1152x576 with 1 Axes>"
            ],
            "image/png": "[encoded data removed]"
          },
          "metadata": {}
        }
      ]
    },
    {
      "cell_type": "code",
      "source": [
        "# Create a new dataframe with only the 'Close' column\n",
        "data = df.filter(['Close'])\n",
        "\n",
        "# Convert the dataframe to a numpy array\n",
        "dataset = data.values\n",
        "\n",
        "# Get the number of rows to train the LSTM Model on\n",
        "training_data_len = math.ceil(len(dataset) * 0.8)\n",
        "\n",
        "# Print dataset length\n",
        "training_data_len"
      ],
      "metadata": {
        "colab": {
          "base_uri": "https://localhost:8080/"
        },
        "id": "uX6TERKKNkCl",
        "outputId": "aa05dc7d-f580-40a2-87e6-ce28d638fab3"
      },
      "execution_count": null,
      "outputs": [
        {
          "output_type": "execute_result",
          "data": {
            "text/plain": [
              "2015"
            ]
          },
          "metadata": {},
          "execution_count": 8
        }
      ]
    },
    {
      "cell_type": "code",
      "source": [
        "# Scale the data\n",
        "scaler = MinMaxScaler(feature_range=(0,1))\n",
        "scaled_data = scaler.fit_transform(dataset)\n",
        "\n",
        "# Show the dataset\n",
        "scaled_data"
      ],
      "metadata": {
        "colab": {
          "base_uri": "https://localhost:8080/"
        },
        "id": "G0H6BZ2KOtlS",
        "outputId": "4bbf2c5e-565d-4795-f90c-304f01b0bd18"
      },
      "execution_count": null,
      "outputs": [
        {
          "output_type": "execute_result",
          "data": {
            "text/plain": [
              "array([[0.02534346],\n",
              "       [0.02726451],\n",
              "       [0.03046699],\n",
              "       ...,\n",
              "       [0.77674978],\n",
              "       [0.78258092],\n",
              "       [0.76913357]])"
            ]
          },
          "metadata": {},
          "execution_count": 9
        }
      ]
    },
    {
      "cell_type": "code",
      "source": [
        "# Create training dataset\n",
        "# Create the scaled training data set\n",
        "train_data = scaled_data[0:training_data_len, :]\n",
        "\n",
        "# Split the data into x_train and y_train datasets\n",
        "# x_train <- independent variables\n",
        "x_train = []\n",
        "# y_train <- dependent variables\n",
        "y_train = []\n",
        "\n",
        "for i in range(60, len(train_data)):\n",
        "  x_train.append(train_data[i-60:i, 0])\n",
        "  y_train.append(train_data[i, 0])\n",
        "  if i<=61:\n",
        "    print(x_train)\n",
        "    print(y_train)\n",
        "    print()  "
      ],
      "metadata": {
        "colab": {
          "base_uri": "https://localhost:8080/"
        },
        "id": "kB8KTugqPMf4",
        "outputId": "b1e8e33e-cf35-42f5-8374-6325df4d4dfc"
      },
      "execution_count": null,
      "outputs": [
        {
          "output_type": "stream",
          "name": "stdout",
          "text": [
            "[array([0.02534346, 0.02726451, 0.03046699, 0.02885406, 0.02788079,\n",
            "       0.02737077, 0.02754927, 0.0260256 , 0.02646337, 0.02530096,\n",
            "       0.03009934, 0.03368219, 0.03220953, 0.02900069, 0.02834192,\n",
            "       0.02864155, 0.02689688, 0.02825905, 0.02757691, 0.02363492,\n",
            "       0.02027095, 0.02455719, 0.02383254, 0.02326303, 0.02427668,\n",
            "       0.02624024, 0.01274399, 0.01048717, 0.0126016 , 0.01439515,\n",
            "       0.01408915, 0.01380439, 0.013407  , 0.01100568, 0.01430378,\n",
            "       0.01419965, 0.01650959, 0.01794613, 0.01899803, 0.01644159,\n",
            "       0.01625246, 0.01616321, 0.01479679, 0.01476066, 0.01239335,\n",
            "       0.01180045, 0.01280986, 0.01110769, 0.01241885, 0.01148382,\n",
            "       0.01081018, 0.00848749, 0.00627318, 0.00862986, 0.00746533,\n",
            "       0.00851086, 0.00875312, 0.01006003, 0.00805397, 0.00803697])]\n",
            "[0.008918878838389946]\n",
            "\n",
            "[array([0.02534346, 0.02726451, 0.03046699, 0.02885406, 0.02788079,\n",
            "       0.02737077, 0.02754927, 0.0260256 , 0.02646337, 0.02530096,\n",
            "       0.03009934, 0.03368219, 0.03220953, 0.02900069, 0.02834192,\n",
            "       0.02864155, 0.02689688, 0.02825905, 0.02757691, 0.02363492,\n",
            "       0.02027095, 0.02455719, 0.02383254, 0.02326303, 0.02427668,\n",
            "       0.02624024, 0.01274399, 0.01048717, 0.0126016 , 0.01439515,\n",
            "       0.01408915, 0.01380439, 0.013407  , 0.01100568, 0.01430378,\n",
            "       0.01419965, 0.01650959, 0.01794613, 0.01899803, 0.01644159,\n",
            "       0.01625246, 0.01616321, 0.01479679, 0.01476066, 0.01239335,\n",
            "       0.01180045, 0.01280986, 0.01110769, 0.01241885, 0.01148382,\n",
            "       0.01081018, 0.00848749, 0.00627318, 0.00862986, 0.00746533,\n",
            "       0.00851086, 0.00875312, 0.01006003, 0.00805397, 0.00803697]), array([0.02726451, 0.03046699, 0.02885406, 0.02788079, 0.02737077,\n",
            "       0.02754927, 0.0260256 , 0.02646337, 0.02530096, 0.03009934,\n",
            "       0.03368219, 0.03220953, 0.02900069, 0.02834192, 0.02864155,\n",
            "       0.02689688, 0.02825905, 0.02757691, 0.02363492, 0.02027095,\n",
            "       0.02455719, 0.02383254, 0.02326303, 0.02427668, 0.02624024,\n",
            "       0.01274399, 0.01048717, 0.0126016 , 0.01439515, 0.01408915,\n",
            "       0.01380439, 0.013407  , 0.01100568, 0.01430378, 0.01419965,\n",
            "       0.01650959, 0.01794613, 0.01899803, 0.01644159, 0.01625246,\n",
            "       0.01616321, 0.01479679, 0.01476066, 0.01239335, 0.01180045,\n",
            "       0.01280986, 0.01110769, 0.01241885, 0.01148382, 0.01081018,\n",
            "       0.00848749, 0.00627318, 0.00862986, 0.00746533, 0.00851086,\n",
            "       0.00875312, 0.01006003, 0.00805397, 0.00803697, 0.00891888])]\n",
            "[0.008918878838389946, 0.011290443155084609]\n",
            "\n"
          ]
        }
      ]
    },
    {
      "cell_type": "code",
      "source": [
        "# Convert the x_train and y_train to numpy arrays to use to train LSTM model\n",
        "x_train, y_train = np.array(x_train), np.array(y_train)"
      ],
      "metadata": {
        "id": "BMqCX8m3QnBO"
      },
      "execution_count": null,
      "outputs": []
    },
    {
      "cell_type": "code",
      "source": [
        "# Reshape the x_train dataset from 2D to 3D for LSTM\n",
        "x_train = np.reshape(x_train,(x_train.shape[0], x_train.shape[1], 1))\n",
        "x_train.shape"
      ],
      "metadata": {
        "colab": {
          "base_uri": "https://localhost:8080/"
        },
        "id": "Dl65sehaQ0Gw",
        "outputId": "9da2c7c9-13e6-477c-c24d-a4d3105fc2a4"
      },
      "execution_count": null,
      "outputs": [
        {
          "output_type": "execute_result",
          "data": {
            "text/plain": [
              "(1955, 60, 1)"
            ]
          },
          "metadata": {},
          "execution_count": 12
        }
      ]
    },
    {
      "cell_type": "code",
      "source": [
        "# Build the LSTM model and add layers\n",
        "model = Sequential()\n",
        "model.add(LSTM(50, return_sequences=True, input_shape=(x_train.shape[1], 1)))\n",
        "model.add(LSTM(50, return_sequences=False))\n",
        "model.add(Dense(25))\n",
        "model.add(Dense(1))"
      ],
      "metadata": {
        "id": "0pc23geDRSqg"
      },
      "execution_count": null,
      "outputs": []
    },
    {
      "cell_type": "code",
      "source": [
        "# Compile the model\n",
        "model.compile(optimizer='adam', loss='mean_squared_error')"
      ],
      "metadata": {
        "id": "8I0p4ojkSvHP"
      },
      "execution_count": null,
      "outputs": []
    },
    {
      "cell_type": "code",
      "source": [
        "# Train the model\n",
        "model.fit(x_train, y_train, batch_size=1, epochs=1)"
      ],
      "metadata": {
        "colab": {
          "base_uri": "https://localhost:8080/"
        },
        "id": "LB8FTLgUYC9S",
        "outputId": "0a902053-5ac5-4848-ceda-92fcfe2a8762"
      },
      "execution_count": null,
      "outputs": [
        {
          "output_type": "stream",
          "name": "stdout",
          "text": [
            "1955/1955 [==============================] - 61s 30ms/step - loss: 8.0298e-04\n"
          ]
        },
        {
          "output_type": "execute_result",
          "data": {
            "text/plain": [
              "<keras.callbacks.History at 0x7f8ac40ac430>"
            ]
          },
          "metadata": {},
          "execution_count": 16
        }
      ]
    },
    {
      "cell_type": "code",
      "source": [
        "# Create the testing dataset\n",
        "# Create a new array containing scaled values from index 1555 to 2015\n",
        "test_data = scaled_data[training_data_len - 60:, :]\n",
        "\n",
        "# Create the datasets x_test and y_test\n",
        "# x_test contains past 60-day values\n",
        "x_test = []\n",
        "# y_test contains 61st value for prediction\n",
        "y_test = dataset[training_data_len:, :]\n",
        "\n",
        "for i in range(60, len(test_data)):\n",
        "  x_test.append(test_data[i-60:i, 0])"
      ],
      "metadata": {
        "id": "EonSc6U3YXju"
      },
      "execution_count": null,
      "outputs": []
    },
    {
      "cell_type": "code",
      "source": [
        "# Convert the data into to a numpy array\n",
        "x_test = np.array(x_test)"
      ],
      "metadata": {
        "id": "jllfoA4CZZNZ"
      },
      "execution_count": null,
      "outputs": []
    },
    {
      "cell_type": "code",
      "source": [
        "# Reshape the data from 2D to 3D for LSTM model\n",
        "x_test = np.reshape(x_test, (x_test.shape[0], x_test.shape[1], 1))"
      ],
      "metadata": {
        "id": "lJlWsulQZili"
      },
      "execution_count": null,
      "outputs": []
    },
    {
      "cell_type": "code",
      "source": [
        "# Get the model's predicted price values\n",
        "predictions = model.predict(x_test)\n",
        "predictions = scaler.inverse_transform(predictions)"
      ],
      "metadata": {
        "colab": {
          "base_uri": "https://localhost:8080/"
        },
        "id": "K7micWfKZ5me",
        "outputId": "dc5d7de0-ca17-4b99-d699-779c197336be"
      },
      "execution_count": null,
      "outputs": [
        {
          "output_type": "stream",
          "name": "stdout",
          "text": [
            "16/16 [==============================] - 1s 17ms/step\n"
          ]
        }
      ]
    },
    {
      "cell_type": "code",
      "source": [
        "# Get the root mean squared error (RSME) for fit test\n",
        "rmse = np.sqrt(np.mean(predictions-y_test)**2)\n",
        "rmse"
      ],
      "metadata": {
        "colab": {
          "base_uri": "https://localhost:8080/"
        },
        "id": "F-wEMPSNaVhl",
        "outputId": "090606d0-aaf4-4fae-ac9f-83997616fd0c"
      },
      "execution_count": null,
      "outputs": [
        {
          "output_type": "execute_result",
          "data": {
            "text/plain": [
              "6.7417539289410024"
            ]
          },
          "metadata": {},
          "execution_count": 22
        }
      ]
    },
    {
      "cell_type": "code",
      "source": [
        "# Plot the data\n",
        "train = data[:training_data_len]\n",
        "valid = data[training_data_len:]\n",
        "valid['Predictions'] = predictions\n",
        "\n",
        "# Visualize the data\n",
        "plt.figure(figsize=(16,8))\n",
        "plt.title('LSTM Model')\n",
        "plt.xlabel('Date', fontsize=18)\n",
        "plt.ylabel('Close Price USD ($)', fontsize=18)\n",
        "plt.plot(train['Close'])\n",
        "plt.plot(valid[['Close', 'Predictions']])\n",
        "plt.legend(['Train', 'Val', 'Predictions'], loc='lower right')\n",
        "plt.show()"
      ],
      "metadata": {
        "colab": {
          "base_uri": "https://localhost:8080/",
          "height": 662
        },
        "id": "jjjvZ2IFa6xN",
        "outputId": "45178326-e669-46be-e75b-e1d38fb17f7b"
      },
      "execution_count": null,
      "outputs": [
        {
          "output_type": "stream",
          "name": "stderr",
          "text": [
            "<ipython-input-23-ba897240b090>:4: SettingWithCopyWarning: \n",
            "A value is trying to be set on a copy of a slice from a DataFrame.\n",
            "Try using .loc[row_indexer,col_indexer] = value instead\n",
            "\n",
            "See the caveats in the documentation: https://pandas.pydata.org/pandas-docs/stable/user_guide/indexing.html#returning-a-view-versus-a-copy\n",
            "  valid['Predictions'] = predictions\n"
          ]
        },
        {
          "output_type": "display_data",
          "data": {
            "text/plain": [
              "<Figure size 1152x576 with 1 Axes>"
            ],
            "image/png": "[encoded data removed]"
          },
          "metadata": {}
        }
      ]
    },
    {
      "cell_type": "code",
      "source": [
        "# Show the valid and predicted prices\n",
        "valid"
      ],
      "metadata": {
        "colab": {
          "base_uri": "https://localhost:8080/",
          "height": 455
        },
        "id": "FRNqtrWZcH9-",
        "outputId": "efd4bdd5-3cf8-4f15-ac93-0de116196100"
      },
      "execution_count": null,
      "outputs": [
        {
          "output_type": "execute_result",
          "data": {
            "text/plain": [
              "                 Close  Predictions\n",
              "Date                               \n",
              "2020-12-16  127.809998   117.310585\n",
              "2020-12-17  128.699997   117.995750\n",
              "2020-12-18  126.660004   118.809364\n",
              "2020-12-21  128.229996   119.451729\n",
              "2020-12-22  131.880005   120.079071\n",
              "...                ...          ...\n",
              "2022-12-08  142.649994   139.689438\n",
              "2022-12-09  142.160004   139.002518\n",
              "2022-12-12  144.490005   138.348297\n",
              "2022-12-13  145.470001   137.970078\n",
              "2022-12-14  143.210007   137.860291\n",
              "\n",
              "[503 rows x 2 columns]"
            ],
            "text/html": [
              "\n",
              "  <div id=\"df-d6f173e0-304f-483c-908f-dcc27d3643d7\">\n",
              "    <div class=\"colab-df-container\">\n",
              "      <div>\n",
              "<style scoped>\n",
              "    .dataframe tbody tr th:only-of-type {\n",
              "        vertical-align: middle;\n",
              "    }\n",
              "\n",
              "    .dataframe tbody tr th {\n",
              "        vertical-align: top;\n",
              "    }\n",
              "\n",
              "    .dataframe thead th {\n",
              "        text-align: right;\n",
              "    }\n",
              "</style>\n",
              "<table border=\"1\" class=\"dataframe\">\n",
              "  <thead>\n",
              "    <tr style=\"text-align: right;\">\n",
              "      <th></th>\n",
              "      <th>Close</th>\n",
              "      <th>Predictions</th>\n",
              "    </tr>\n",
              "    <tr>\n",
              "      <th>Date</th>\n",
              "      <th></th>\n",
              "      <th></th>\n",
              "    </tr>\n",
              "  </thead>\n",
              "  <tbody>\n",
              "    <tr>\n",
              "      <th>2020-12-16</th>\n",
              "      <td>127.809998</td>\n",
              "      <td>117.310585</td>\n",
              "    </tr>\n",
              "    <tr>\n",
              "      <th>2020-12-17</th>\n",
              "      <td>128.699997</td>\n",
              "      <td>117.995750</td>\n",
              "    </tr>\n",
              "    <tr>\n",
              "      <th>2020-12-18</th>\n",
              "      <td>126.660004</td>\n",
              "      <td>118.809364</td>\n",
              "    </tr>\n",
              "    <tr>\n",
              "      <th>2020-12-21</th>\n",
              "      <td>128.229996</td>\n",
              "      <td>119.451729</td>\n",
              "    </tr>\n",
              "    <tr>\n",
              "      <th>2020-12-22</th>\n",
              "      <td>131.880005</td>\n",
              "      <td>120.079071</td>\n",
              "    </tr>\n",
              "    <tr>\n",
              "      <th>...</th>\n",
              "      <td>...</td>\n",
              "      <td>...</td>\n",
              "    </tr>\n",
              "    <tr>\n",
              "      <th>2022-12-08</th>\n",
              "      <td>142.649994</td>\n",
              "      <td>139.689438</td>\n",
              "    </tr>\n",
              "    <tr>\n",
              "      <th>2022-12-09</th>\n",
              "      <td>142.160004</td>\n",
              "      <td>139.002518</td>\n",
              "    </tr>\n",
              "    <tr>\n",
              "      <th>2022-12-12</th>\n",
              "      <td>144.490005</td>\n",
              "      <td>138.348297</td>\n",
              "    </tr>\n",
              "    <tr>\n",
              "      <th>2022-12-13</th>\n",
              "      <td>145.470001</td>\n",
              "      <td>137.970078</td>\n",
              "    </tr>\n",
              "    <tr>\n",
              "      <th>2022-12-14</th>\n",
              "      <td>143.210007</td>\n",
              "      <td>137.860291</td>\n",
              "    </tr>\n",
              "  </tbody>\n",
              "</table>\n",
              "<p>503 rows × 2 columns</p>\n",
              "</div>\n",
              "      <button class=\"colab-df-convert\" onclick=\"convertToInteractive('df-d6f173e0-304f-483c-908f-dcc27d3643d7')\"\n",
              "              title=\"Convert this dataframe to an interactive table.\"\n",
              "              style=\"display:none;\">\n",
              "        \n",
              "  <svg xmlns=\"http://www.w3.org/2000/svg\" height=\"24px\"viewBox=\"0 0 24 24\"\n",
              "       width=\"24px\">\n",
              "    <path d=\"M0 0h24v24H0V0z\" fill=\"none\"/>\n",
              "    <path d=\"M18.56 5.44l.94 2.06.94-2.06 2.06-.94-2.06-.94-.94-2.06-.94 2.06-2.06.94zm-11 1L8.5 8.5l.94-2.06 2.06-.94-2.06-.94L8.5 2.5l-.94 2.06-2.06.94zm10 10l.94 2.06.94-2.06 2.06-.94-2.06-.94-.94-2.06-.94 2.06-2.06.94z\"/><path d=\"M17.41 7.96l-1.37-1.37c-.4-.4-.92-.59-1.43-.59-.52 0-1.04.2-1.43.59L10.3 9.45l-7.72 7.72c-.78.78-.78 2.05 0 2.83L4 21.41c.39.39.9.59 1.41.59.51 0 1.02-.2 1.41-.59l7.78-7.78 2.81-2.81c.8-.78.8-2.07 0-2.86zM5.41 20L4 18.59l7.72-7.72 1.47 1.35L5.41 20z\"/>\n",
              "  </svg>\n",
              "      </button>\n",
              "      \n",
              "  <style>\n",
              "    .colab-df-container {\n",
              "      display:flex;\n",
              "      flex-wrap:wrap;\n",
              "      gap: 12px;\n",
              "    }\n",
              "\n",
              "    .colab-df-convert {\n",
              "      background-color: #E8F0FE;\n",
              "      border: none;\n",
              "      border-radius: 50%;\n",
              "      cursor: pointer;\n",
              "      display: none;\n",
              "      fill: #1967D2;\n",
              "      height: 32px;\n",
              "      padding: 0 0 0 0;\n",
              "      width: 32px;\n",
              "    }\n",
              "\n",
              "    .colab-df-convert:hover {\n",
              "      background-color: #E2EBFA;\n",
              "      box-shadow: 0px 1px 2px rgba(60, 64, 67, 0.3), 0px 1px 3px 1px rgba(60, 64, 67, 0.15);\n",
              "      fill: #174EA6;\n",
              "    }\n",
              "\n",
              "    [theme=dark] .colab-df-convert {\n",
              "      background-color: #3B4455;\n",
              "      fill: #D2E3FC;\n",
              "    }\n",
              "\n",
              "    [theme=dark] .colab-df-convert:hover {\n",
              "      background-color: #434B5C;\n",
              "      box-shadow: 0px 1px 3px 1px rgba(0, 0, 0, 0.15);\n",
              "      filter: drop-shadow(0px 1px 2px rgba(0, 0, 0, 0.3));\n",
              "      fill: #FFFFFF;\n",
              "    }\n",
              "  </style>\n",
              "\n",
              "      <script>\n",
              "        const buttonEl =\n",
              "          document.querySelector('#df-d6f173e0-304f-483c-908f-dcc27d3643d7 button.colab-df-convert');\n",
              "        buttonEl.style.display =\n",
              "          google.colab.kernel.accessAllowed ? 'block' : 'none';\n",
              "\n",
              "        async function convertToInteractive(key) {\n",
              "          const element = document.querySelector('#df-d6f173e0-304f-483c-908f-dcc27d3643d7');\n",
              "          const dataTable =\n",
              "            await google.colab.kernel.invokeFunction('convertToInteractive',\n",
              "                                                     [key], {});\n",
              "          if (!dataTable) return;\n",
              "\n",
              "          const docLinkHtml = 'Like what you see? Visit the ' +\n",
              "            '<a target=\"_blank\" href=https://colab.research.google.com/notebooks/data_table.ipynb>data table notebook</a>'\n",
              "            + ' to learn more about interactive tables.';\n",
              "          element.innerHTML = '';\n",
              "          dataTable['output_type'] = 'display_data';\n",
              "          await google.colab.output.renderOutput(dataTable, element);\n",
              "          const docLink = document.createElement('div');\n",
              "          docLink.innerHTML = docLinkHtml;\n",
              "          element.appendChild(docLink);\n",
              "        }\n",
              "      </script>\n",
              "    </div>\n",
              "  </div>\n",
              "  "
            ]
          },
          "metadata": {},
          "execution_count": 24
        }
      ]
    },
    {
      "cell_type": "code",
      "source": [
        "# Get the quote\n",
        "end = '2022-12-15'\n",
        "\n",
        "apple_quote = pdr.DataReader('AAPL', data_source = source, start=start, end=end)\n",
        "\n",
        "# Create a new dataframe\n",
        "new_df = apple_quote.filter(['Close'])\n",
        "\n",
        "# Get the last 60 day closing price values and convert the dataframe to an array\n",
        "last_60_days = new_df[-60:].values\n",
        "\n",
        "# Scale the data to be values between 0 and 1\n",
        "last_60_days_scaled = scaler.transform(last_60_days)\n",
        "\n",
        "# Create an empty list\n",
        "X_test = []\n",
        "\n",
        "# Append the past 60 days to the X_test\n",
        "X_test.append(last_60_days_scaled)\n",
        "\n",
        "# Convert the X_test data \n",
        "X_test = np.array(X_test)\n",
        "\n",
        "# Reshape the data\n",
        "X_test = np.reshape(X_test, (X_test.shape[0], X_test.shape[1], 1))\n",
        "\n",
        "# Get the predicted scaled price\n",
        "pred_price = model.predict(X_test)\n",
        "\n",
        "# Undo the scaling\n",
        "pred_price = scaler.inverse_transform(pred_price)\n",
        "print(pred_price)"
      ],
      "metadata": {
        "colab": {
          "base_uri": "https://localhost:8080/"
        },
        "id": "t4DCYG1mcYRL",
        "outputId": "0b842536-aae8-4ebc-9d7a-096533f1d7de"
      },
      "execution_count": null,
      "outputs": [
        {
          "output_type": "stream",
          "name": "stdout",
          "text": [
            "1/1 [==============================] - 0s 22ms/step\n",
            "[[137.00548]]\n"
          ]
        }
      ]
    },
    {
      "cell_type": "code",
      "source": [
        "# Get the actual quote\n",
        "apple_quote2 = pdr.DataReader('AAPL', data_source = source, start=end, end=end)\n",
        "print(apple_quote2['Close'])"
      ],
      "metadata": {
        "colab": {
          "base_uri": "https://localhost:8080/"
        },
        "id": "_0Cs8FOmeXrZ",
        "outputId": "7d35048b-8108-4c1a-9b20-f9cba5ce969b"
      },
      "execution_count": null,
      "outputs": [
        {
          "output_type": "stream",
          "name": "stdout",
          "text": [
            "Date\n",
            "2022-12-15    136.5\n",
            "Name: Close, dtype: float64\n"
          ]
        }
      ]
    }
  ]
}